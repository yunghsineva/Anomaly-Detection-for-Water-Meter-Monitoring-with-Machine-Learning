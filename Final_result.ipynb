{
  "nbformat": 4,
  "nbformat_minor": 0,
  "metadata": {
    "colab": {
      "provenance": []
    },
    "kernelspec": {
      "name": "python3",
      "display_name": "Python 3"
    },
    "language_info": {
      "name": "python"
    }
  },
  "cells": [
    {
      "cell_type": "code",
      "source": [
        "import numpy as np\n",
        "import pandas as pd"
      ],
      "metadata": {
        "id": "WmVjup2Vh3Jw"
      },
      "execution_count": null,
      "outputs": []
    },
    {
      "cell_type": "code",
      "source": [
        "import pickle\n",
        "\n",
        "\n",
        "with open('X_test.pkl', 'rb') as f:\n",
        "    X_test = pickle.load(f)\n",
        "\n",
        "with open('y_test.pkl', 'rb') as f:\n",
        "    y_test = pickle.load(f)\n",
        "\n",
        "\n",
        "df_test = pd.read_csv('df_test.csv')\n",
        "\n"
      ],
      "metadata": {
        "id": "Z8Vt6yerivBm"
      },
      "execution_count": null,
      "outputs": []
    },
    {
      "cell_type": "code",
      "execution_count": null,
      "metadata": {
        "colab": {
          "base_uri": "https://localhost:8080/",
          "height": 758
        },
        "id": "lIMBTlJKhUJ9",
        "outputId": "3bbbc247-a144-4fc8-c6fd-9d0dcfc9a937"
      },
      "outputs": [
        {
          "output_type": "stream",
          "name": "stderr",
          "text": [
            "WARNING:absl:Compiled the loaded model, but the compiled metrics have yet to be built. `model.compile_metrics` will be empty until you train or evaluate the model.\n"
          ]
        },
        {
          "output_type": "display_data",
          "data": {
            "text/plain": [
              "\u001b[1mModel: \"sequential\"\u001b[0m\n"
            ],
            "text/html": [
              "<pre style=\"white-space:pre;overflow-x:auto;line-height:normal;font-family:Menlo,'DejaVu Sans Mono',consolas,'Courier New',monospace\"><span style=\"font-weight: bold\">Model: \"sequential\"</span>\n",
              "</pre>\n"
            ]
          },
          "metadata": {}
        },
        {
          "output_type": "display_data",
          "data": {
            "text/plain": [
              "┏━━━━━━━━━━━━━━━━━━━━━━━━━━━━━━━━━━━━━━┳━━━━━━━━━━━━━━━━━━━━━━━━━━━━━┳━━━━━━━━━━━━━━━━━┓\n",
              "┃\u001b[1m \u001b[0m\u001b[1mLayer (type)                        \u001b[0m\u001b[1m \u001b[0m┃\u001b[1m \u001b[0m\u001b[1mOutput Shape               \u001b[0m\u001b[1m \u001b[0m┃\u001b[1m \u001b[0m\u001b[1m        Param #\u001b[0m\u001b[1m \u001b[0m┃\n",
              "┡━━━━━━━━━━━━━━━━━━━━━━━━━━━━━━━━━━━━━━╇━━━━━━━━━━━━━━━━━━━━━━━━━━━━━╇━━━━━━━━━━━━━━━━━┩\n",
              "│ lstm (\u001b[38;5;33mLSTM\u001b[0m)                          │ (\u001b[38;5;45mNone\u001b[0m, \u001b[38;5;34m50\u001b[0m)                  │          \u001b[38;5;34m12,800\u001b[0m │\n",
              "├──────────────────────────────────────┼─────────────────────────────┼─────────────────┤\n",
              "│ dense (\u001b[38;5;33mDense\u001b[0m)                        │ (\u001b[38;5;45mNone\u001b[0m, \u001b[38;5;34m1\u001b[0m)                   │              \u001b[38;5;34m51\u001b[0m │\n",
              "└──────────────────────────────────────┴─────────────────────────────┴─────────────────┘\n"
            ],
            "text/html": [
              "<pre style=\"white-space:pre;overflow-x:auto;line-height:normal;font-family:Menlo,'DejaVu Sans Mono',consolas,'Courier New',monospace\">┏━━━━━━━━━━━━━━━━━━━━━━━━━━━━━━━━━━━━━━┳━━━━━━━━━━━━━━━━━━━━━━━━━━━━━┳━━━━━━━━━━━━━━━━━┓\n",
              "┃<span style=\"font-weight: bold\"> Layer (type)                         </span>┃<span style=\"font-weight: bold\"> Output Shape                </span>┃<span style=\"font-weight: bold\">         Param # </span>┃\n",
              "┡━━━━━━━━━━━━━━━━━━━━━━━━━━━━━━━━━━━━━━╇━━━━━━━━━━━━━━━━━━━━━━━━━━━━━╇━━━━━━━━━━━━━━━━━┩\n",
              "│ lstm (<span style=\"color: #0087ff; text-decoration-color: #0087ff\">LSTM</span>)                          │ (<span style=\"color: #00d7ff; text-decoration-color: #00d7ff\">None</span>, <span style=\"color: #00af00; text-decoration-color: #00af00\">50</span>)                  │          <span style=\"color: #00af00; text-decoration-color: #00af00\">12,800</span> │\n",
              "├──────────────────────────────────────┼─────────────────────────────┼─────────────────┤\n",
              "│ dense (<span style=\"color: #0087ff; text-decoration-color: #0087ff\">Dense</span>)                        │ (<span style=\"color: #00d7ff; text-decoration-color: #00d7ff\">None</span>, <span style=\"color: #00af00; text-decoration-color: #00af00\">1</span>)                   │              <span style=\"color: #00af00; text-decoration-color: #00af00\">51</span> │\n",
              "└──────────────────────────────────────┴─────────────────────────────┴─────────────────┘\n",
              "</pre>\n"
            ]
          },
          "metadata": {}
        },
        {
          "output_type": "display_data",
          "data": {
            "text/plain": [
              "\u001b[1m Total params: \u001b[0m\u001b[38;5;34m12,853\u001b[0m (50.21 KB)\n"
            ],
            "text/html": [
              "<pre style=\"white-space:pre;overflow-x:auto;line-height:normal;font-family:Menlo,'DejaVu Sans Mono',consolas,'Courier New',monospace\"><span style=\"font-weight: bold\"> Total params: </span><span style=\"color: #00af00; text-decoration-color: #00af00\">12,853</span> (50.21 KB)\n",
              "</pre>\n"
            ]
          },
          "metadata": {}
        },
        {
          "output_type": "display_data",
          "data": {
            "text/plain": [
              "\u001b[1m Trainable params: \u001b[0m\u001b[38;5;34m12,851\u001b[0m (50.20 KB)\n"
            ],
            "text/html": [
              "<pre style=\"white-space:pre;overflow-x:auto;line-height:normal;font-family:Menlo,'DejaVu Sans Mono',consolas,'Courier New',monospace\"><span style=\"font-weight: bold\"> Trainable params: </span><span style=\"color: #00af00; text-decoration-color: #00af00\">12,851</span> (50.20 KB)\n",
              "</pre>\n"
            ]
          },
          "metadata": {}
        },
        {
          "output_type": "display_data",
          "data": {
            "text/plain": [
              "\u001b[1m Non-trainable params: \u001b[0m\u001b[38;5;34m0\u001b[0m (0.00 B)\n"
            ],
            "text/html": [
              "<pre style=\"white-space:pre;overflow-x:auto;line-height:normal;font-family:Menlo,'DejaVu Sans Mono',consolas,'Courier New',monospace\"><span style=\"font-weight: bold\"> Non-trainable params: </span><span style=\"color: #00af00; text-decoration-color: #00af00\">0</span> (0.00 B)\n",
              "</pre>\n"
            ]
          },
          "metadata": {}
        },
        {
          "output_type": "display_data",
          "data": {
            "text/plain": [
              "\u001b[1m Optimizer params: \u001b[0m\u001b[38;5;34m2\u001b[0m (12.00 B)\n"
            ],
            "text/html": [
              "<pre style=\"white-space:pre;overflow-x:auto;line-height:normal;font-family:Menlo,'DejaVu Sans Mono',consolas,'Courier New',monospace\"><span style=\"font-weight: bold\"> Optimizer params: </span><span style=\"color: #00af00; text-decoration-color: #00af00\">2</span> (12.00 B)\n",
              "</pre>\n"
            ]
          },
          "metadata": {}
        },
        {
          "output_type": "stream",
          "name": "stdout",
          "text": [
            "\u001b[1m2260/2260\u001b[0m \u001b[32m━━━━━━━━━━━━━━━━━━━━\u001b[0m\u001b[37m\u001b[0m \u001b[1m16s\u001b[0m 7ms/step\n",
            "                                   user_key             datetime  \\\n",
            "0      a83caccb-2b31-4973-aff2-7c1d0d16f121  2016-01-29 13:34:19   \n",
            "1      86daa7e4-9e0a-4e8a-a3d3-94855867cb37  2016-04-02 23:02:35   \n",
            "2      2a58ae85-e148-4127-a7bd-567882bbff65  2016-06-17 06:40:36   \n",
            "3      c10dfed9-8548-4f3e-89f3-5b32c0b0e837  2016-04-13 08:50:23   \n",
            "4      995f0d24-14c3-43f1-84bb-ee17b38e4d0c  2016-04-26 11:43:41   \n",
            "...                                     ...                  ...   \n",
            "72314  3100f73a-b4ae-4e98-9f70-5e59c07b17ab  2016-04-05 08:46:20   \n",
            "72315  08835f7d-fd2f-48fc-a846-26608e3fdce0  2016-02-29 02:18:55   \n",
            "72316  98396d65-f859-4da8-bd3c-b0e587406414  2016-02-15 23:31:52   \n",
            "72317  6e11db25-bbc4-4bb7-bde7-8f1875d56f64  2016-04-01 18:55:03   \n",
            "72318  c10dfed9-8548-4f3e-89f3-5b32c0b0e837  2016-06-30 14:48:07   \n",
            "\n",
            "       predicted_probability  \n",
            "0                   0.085909  \n",
            "1                   0.092617  \n",
            "2                   0.083526  \n",
            "3                   0.090297  \n",
            "4                   0.080950  \n",
            "...                      ...  \n",
            "72314               0.072205  \n",
            "72315               0.073516  \n",
            "72316               0.089274  \n",
            "72317               0.083852  \n",
            "72318               0.090106  \n",
            "\n",
            "[72319 rows x 3 columns]\n"
          ]
        }
      ],
      "source": [
        "from keras.models import load_model\n",
        "\n",
        "model = load_model('hybrid_lstm_model.h5')\n",
        "model.summary()\n",
        "\n",
        "predictions = model.predict(X_test).flatten()\n",
        "\n",
        "sequence_length = 24\n",
        "df_test_seq = df_test.iloc[sequence_length:].reset_index(drop=True)\n",
        "result_df = pd.DataFrame({\n",
        "    'user_key': df_test_seq['user key'].values,\n",
        "    'datetime': df_test_seq['datetime'].values,\n",
        "    'predicted_probability': predictions\n",
        "})\n",
        "\n",
        "\n",
        "print(result_df)\n"
      ]
    },
    {
      "cell_type": "code",
      "source": [
        "from sklearn.metrics import classification_report, accuracy_score, f1_score, precision_score, recall_score\n",
        "# try different thresholds\n",
        "for threshold in [0.094, 0.089, 0.093, 0.09, 0.095, 0.092, 0.091]:\n",
        "    predicted_classes = (predictions > threshold).astype(int)\n",
        "    print(f\"\\nThreshold: {threshold}\")\n",
        "    print(\"Accuracy:\", accuracy_score(y_test, predicted_classes))\n",
        "    print(\"Precision:\", precision_score(y_test, predicted_classes))\n",
        "    print(\"Recall:\", recall_score(y_test, predicted_classes))\n",
        "    print(\"F1 Score:\", f1_score(y_test, predicted_classes))\n"
      ],
      "metadata": {
        "colab": {
          "base_uri": "https://localhost:8080/"
        },
        "id": "Jrng0VIdhrSt",
        "outputId": "64e6cc70-a82d-4d05-930d-aea62fbbc377"
      },
      "execution_count": null,
      "outputs": [
        {
          "output_type": "stream",
          "name": "stdout",
          "text": [
            "\n",
            "Threshold: 0.094\n",
            "Accuracy: 0.8352023672893707\n",
            "Precision: 0.0942975942975943\n",
            "Recall: 0.09838859621939883\n",
            "F1 Score: 0.09629966636336063\n",
            "\n",
            "Threshold: 0.089\n",
            "Accuracy: 0.6980738118613365\n",
            "Precision: 0.09195097362975539\n",
            "Recall: 0.2685156492097924\n",
            "F1 Score: 0.136990632781313\n",
            "\n",
            "Threshold: 0.093\n",
            "Accuracy: 0.8166871776434962\n",
            "Precision: 0.09635694790554171\n",
            "Recall: 0.12581344902386118\n",
            "F1 Score: 0.10913245077615752\n",
            "\n",
            "Threshold: 0.09\n",
            "Accuracy: 0.7343713270371548\n",
            "Precision: 0.0937579617834395\n",
            "Recall: 0.22807561202355128\n",
            "F1 Score: 0.13288796605579128\n",
            "\n",
            "Threshold: 0.095\n",
            "Accuracy: 0.8512838949653618\n",
            "Precision: 0.09278545729975383\n",
            "Recall: 0.07592190889370933\n",
            "F1 Score: 0.08351086493395825\n",
            "\n",
            "Threshold: 0.092\n",
            "Accuracy: 0.7928483524385016\n",
            "Precision: 0.09352655162551245\n",
            "Recall: 0.1519987604586303\n",
            "F1 Score: 0.11580003541285487\n",
            "\n",
            "Threshold: 0.091\n",
            "Accuracy: 0.7657185525242329\n",
            "Precision: 0.09348112549414773\n",
            "Recall: 0.18686086148125194\n",
            "F1 Score: 0.12461896150865409\n"
          ]
        }
      ]
    },
    {
      "cell_type": "code",
      "source": [
        "threshold = 0.09\n",
        "anomaly_users = result_df[result_df['predicted_probability'] >= threshold]\n",
        "anomaly_users.to_csv('anomaly_users.csv', index=False)\n",
        "print(anomaly_users)"
      ],
      "metadata": {
        "colab": {
          "base_uri": "https://localhost:8080/"
        },
        "id": "ZmJ0J_NEhthd",
        "outputId": "7a3c16af-bc8b-48c8-d1c5-94a7582f5d42"
      },
      "execution_count": null,
      "outputs": [
        {
          "output_type": "stream",
          "name": "stdout",
          "text": [
            "                                   user_key             datetime  \\\n",
            "1      86daa7e4-9e0a-4e8a-a3d3-94855867cb37  2016-04-02 23:02:35   \n",
            "3      c10dfed9-8548-4f3e-89f3-5b32c0b0e837  2016-04-13 08:50:23   \n",
            "21     ed482671-d9a1-468f-91a1-4147c995d811  2016-03-30 03:01:26   \n",
            "30     80d297a3-aa52-4df0-b22b-a4b3478a4eb8  2016-01-04 07:33:06   \n",
            "31     0b64a189-f0e5-4444-9bba-1200fefdbc47  2016-03-15 21:12:23   \n",
            "...                                     ...                  ...   \n",
            "72302  e14e44b0-1b85-4343-a618-61e92984adfd  2016-04-01 22:32:41   \n",
            "72303  b536337c-af2f-4ba9-a935-7552c7230d16  2016-05-06 02:31:34   \n",
            "72305  389444ad-438f-44f6-b3f9-1cb53bcc2207  2016-02-10 18:13:09   \n",
            "72307  10595ac6-509a-49eb-8e4b-6c454977e095  2016-04-29 12:44:06   \n",
            "72318  c10dfed9-8548-4f3e-89f3-5b32c0b0e837  2016-06-30 14:48:07   \n",
            "\n",
            "       predicted_probability  \n",
            "1                   0.092617  \n",
            "3                   0.090297  \n",
            "21                  0.099489  \n",
            "30                  0.092039  \n",
            "31                  0.091042  \n",
            "...                      ...  \n",
            "72302               0.093430  \n",
            "72303               0.093321  \n",
            "72305               0.092711  \n",
            "72307               0.093194  \n",
            "72318               0.090106  \n",
            "\n",
            "[15700 rows x 3 columns]\n"
          ]
        }
      ]
    },
    {
      "cell_type": "code",
      "source": [
        "from sklearn.metrics import confusion_matrix\n",
        "import matplotlib.pyplot as plt\n",
        "import seaborn as sns\n",
        "\n",
        "\n",
        "predicted_classes = (predictions > threshold).astype(int)\n",
        "cm = confusion_matrix(y_test, predicted_classes)\n",
        "plt.figure(figsize=(8, 6))\n",
        "\n",
        "sns.heatmap(cm, annot=True, fmt='d', cmap='Blues', cbar=False)\n",
        "\n",
        "plt.title('Confusion Matrix')\n",
        "plt.xlabel('Predicted Label')\n",
        "plt.ylabel('True Label')\n",
        "\n",
        "plt.xticks([0.5, 1.5], ['Non-Anomaly (0)', 'Anomaly (1)'])\n",
        "plt.yticks([0.5, 1.5], ['Non-Anomaly (0)', 'Anomaly (1)'], va='center')\n",
        "\n",
        "plt.show()\n",
        "\n"
      ],
      "metadata": {
        "colab": {
          "base_uri": "https://localhost:8080/",
          "height": 564
        },
        "id": "-PYytOC_hvhy",
        "outputId": "ea4caf8f-ea70-421e-a9ee-5974b120b8fa"
      },
      "execution_count": null,
      "outputs": [
        {
          "output_type": "display_data",
          "data": {
            "text/plain": [
              "<Figure size 800x600 with 1 Axes>"
            ],
            "image/png": "[encoded data removed]"
          },
          "metadata": {}
        }
      ]
    },
    {
      "cell_type": "code",
      "source": [
        "print(f\"\\nThreshold: {threshold}\")\n",
        "print(\"Accuracy:\", accuracy_score(y_test, predicted_classes))\n",
        "print(\"Precision:\", precision_score(y_test, predicted_classes))\n",
        "print(\"Recall:\", recall_score(y_test, predicted_classes))\n",
        "print(\"F1 Score:\", f1_score(y_test, predicted_classes))\n"
      ],
      "metadata": {
        "colab": {
          "base_uri": "https://localhost:8080/"
        },
        "id": "HoYaAIHvhzCx",
        "outputId": "3317d24e-f442-4158-8bb2-869d5e96e3f1"
      },
      "execution_count": null,
      "outputs": [
        {
          "output_type": "stream",
          "name": "stdout",
          "text": [
            "\n",
            "Threshold: 0.09\n",
            "Accuracy: 0.7343713270371548\n",
            "Precision: 0.0937579617834395\n",
            "Recall: 0.22807561202355128\n",
            "F1 Score: 0.13288796605579128\n"
          ]
        }
      ]
    }
  ]
}